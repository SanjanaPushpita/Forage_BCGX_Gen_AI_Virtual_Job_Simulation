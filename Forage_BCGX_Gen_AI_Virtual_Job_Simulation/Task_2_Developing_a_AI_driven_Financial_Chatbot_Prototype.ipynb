{
  "nbformat": 4,
  "nbformat_minor": 0,
  "metadata": {
    "colab": {
      "provenance": []
    },
    "kernelspec": {
      "name": "python3",
      "display_name": "Python 3"
    },
    "language_info": {
      "name": "python"
    }
  },
  "cells": [
    {
      "cell_type": "markdown",
      "source": [
        "# Importing the necessary Modules"
      ],
      "metadata": {
        "id": "JifKIKk27Axd"
      }
    },
    {
      "cell_type": "code",
      "execution_count": 1,
      "metadata": {
        "id": "2PK4TPoz4arM"
      },
      "outputs": [],
      "source": [
        "import pandas as pd\n",
        "import matplotlib.pyplot as plt\n",
        "import numpy as np\n",
        "import seaborn as sns\n",
        "import plotly.express as px\n",
        "import plotly.graph_objects as go\n",
        "import os"
      ]
    },
    {
      "cell_type": "markdown",
      "source": [
        "# Drive import"
      ],
      "metadata": {
        "id": "11x91cdZ7EMS"
      }
    },
    {
      "cell_type": "code",
      "source": [
        "from google.colab import drive\n",
        "drive.mount('/content/drive/')"
      ],
      "metadata": {
        "colab": {
          "base_uri": "https://localhost:8080/"
        },
        "id": "3pg0HH-U4keB",
        "outputId": "0382f24c-41ba-4cd9-9c9d-8d0c0b9bc440"
      },
      "execution_count": 2,
      "outputs": [
        {
          "output_type": "stream",
          "name": "stdout",
          "text": [
            "Mounted at /content/drive/\n"
          ]
        }
      ]
    },
    {
      "cell_type": "markdown",
      "source": [
        "# Reading the Final data report and summary report from Task 1"
      ],
      "metadata": {
        "id": "yi1Me35uhBKe"
      }
    },
    {
      "cell_type": "code",
      "source": [
        "final_report = pd.read_csv('/content/drive/MyDrive/Forage_BCGX_Gen_AI_Virtual_Job_Simulation--main/Task 1_ Data Extraction and Initial Analysis/final_data_report.csv')\n",
        "summary_report = pd.read_csv('/content/drive/MyDrive/Forage_BCGX_Gen_AI_Virtual_Job_Simulation--main/Task 1_ Data Extraction and Initial Analysis/Summary_final_report.csv')"
      ],
      "metadata": {
        "id": "RpLyMwmIhAk6"
      },
      "execution_count": 4,
      "outputs": []
    },
    {
      "cell_type": "markdown",
      "source": [
        "# Creating a basic Rule-based Logic AI-Driven Chatbot"
      ],
      "metadata": {
        "id": "kfFVe6aEhZLu"
      }
    },
    {
      "cell_type": "code",
      "source": [
        "def financial_chatbot():\n",
        "    print(\"\\nPlease enter your query\")\n",
        "    user_query = input()\n",
        "\n",
        "    if user_query == \"What is the total revenue?\":\n",
        "        revenue = final_report[(final_report['Year'] == fiscal_year) & (final_report['Company'] == company_input)]['Total Revenue'].values[0]\n",
        "        return f\"The Total Revenue for {company_input} for fiscal year {fiscal_year} is $ {revenue}\"\n",
        "\n",
        "    elif user_query == \"What is the Net Income?\":\n",
        "        net_income  = final_report[(final_report['Year'] == fiscal_year) & (final_report['Company'] == company_input)]['Net Income'].values[0]\n",
        "        return f\"The Net Income for {company_input} for fiscal year {fiscal_year} is $ {net_income}\"\n",
        "\n",
        "    elif user_query == \"What is the sum of total assets?\":\n",
        "        total_assets  = final_report[(final_report['Year'] == fiscal_year) & (final_report['Company'] == company_input)]['Total Assets'].values[0]\n",
        "        return f\"The sum of Total Assets for {company_input} for fiscal year {fiscal_year} is $ {total_assets}\"\n",
        "\n",
        "    elif user_query == \"What is the sum of total liabilities?\":\n",
        "        total_liabilities  = final_report[(final_report['Year'] == fiscal_year) & (final_report['Company'] == company_input)]['Total Liabilities'].values[0]\n",
        "        return f\"The sum of Total Liabilities for {company_input} for fiscal year {fiscal_year} is $ {total_liabilities}\"\n",
        "\n",
        "    elif user_query == \"What is cash flow from operating activities?\":\n",
        "        cash_ops = final_report[(final_report['Year'] == fiscal_year) & (final_report['Company'] == company_input)]['Cash Flow from Operating Activities'].values[0]\n",
        "        return f\"The Cash Flow from Operating Activities for {company_input} for fiscal year {fiscal_year} is $ {cash_ops}\"\n",
        "\n",
        "    elif user_query == \"What is the revenue growth(%) ?\":\n",
        "        revenue_growth = final_report[(final_report['Year'] == fiscal_year) & (final_report['Company'] == company_input)]['Revenue Growth (%)'].values[0].round(4)\n",
        "        return f\"The Revenue Growth(%) for {company_input} for fiscal year {fiscal_year} is {revenue_growth}(%)\"\n",
        "\n",
        "    elif user_query == \"What is the net income growth(%) ?\":\n",
        "        net_income_growth = final_report[(final_report['Year'] == fiscal_year) & (final_report['Company'] == company_input)]['Net Income Growth (%)'].values[0].round(4)\n",
        "        return f\"The Net Income Growth(%) for {company_input} for fiscal year {fiscal_year} is {net_income_growth}(%)\"\n",
        "\n",
        "    elif user_query == \"What is the assets growth(%) ?\":\n",
        "        assets_growth = final_report[(final_report['Year'] == fiscal_year) & (final_report['Company'] == company_input)]['Assets Growth (%)'].values[0].round(4)\n",
        "        return f\"The Assets Growth(%) for {company_input} for fiscal year {fiscal_year} is {assets_growth}(%)\"\n",
        "\n",
        "    elif user_query == \"What is the liabilities growth(%) ?\":\n",
        "        liabilities_growth = final_report[(final_report['Year'] == fiscal_year) & (final_report['Company'] == company_input)]['Liabilities Growth (%)'].values[0].round(4)\n",
        "        return f\"The Liabilities Growth(%) for {company_input} for fiscal year {fiscal_year} is {liabilities_growth}(%)\"\n",
        "\n",
        "    elif user_query == \"What is the cash flow from operations growth(%) ?\":\n",
        "        cash_ops_growth = final_report[(final_report['Year'] == fiscal_year) & (final_report['Company'] == company_input)]['Cash Flow from Operations Growth(%)'].values[0].round(4)\n",
        "        return f\"The Cash Flow from Operations Growth(%) for {company_input} for fiscal year {fiscal_year} is {cash_ops_growth}(%)\"\n",
        "\n",
        "    elif user_query == \"What is the year by year average revenue growth rate(%)?\":\n",
        "        year_avg_revenue_growth = summary_report[(summary_report['Company'] == company_input)]['Revenue Growth (%)'].values[0].round(4)\n",
        "        return f\"The Year By Year Average Revenue Growth Rate(%) from 2021 to 2023 for {company_input} is {year_avg_revenue_growth}(%)\"\n",
        "\n",
        "    elif user_query == \"What is the year by year average net income growth rate(%)?\":\n",
        "        year_avg_net_income_growth = summary_report[(summary_report['Company'] == company_input)]['Net Income Growth (%)'].values[0].round(4)\n",
        "        return f\"The Year By Year Net Income Revenue Growth Rate(%) from 2021 to 2023 for {company_input} is {year_avg_net_income_growth}(%)\"\n",
        "\n",
        "    elif user_query == \"What is the year by year average assets growth rate(%)?\":\n",
        "        year_avg_assets_growth = summary_report[(summary_report['Company'] == company_input)]['Assets Growth (%)'].values[0].round(4)\n",
        "        return f\"The Year By Year Average Assets Growth Rate(%) from 2021 to 2023 for {company_input} is {year_avg_assets_growth}(%)\"\n",
        "\n",
        "    elif user_query == \"What is the year by year average liabilities growth rate(%)?\":\n",
        "        year_avg_liabilities_growth = summary_report[(summary_report['Company'] == company_input)]['Liabilities Growth (%)'].values[0].round(4)\n",
        "        return f\"The Year By Year Average Liabilities Growth Rate(%) from 2021 to 2023 for {company_input} is {year_avg_liabilities_growth}(%)\"\n",
        "\n",
        "    elif user_query == \"What is the year by year average cash flow from operations growth rate(%)?\":\n",
        "        year_avg_cash_ops_growth = summary_report[(summary_report['Company'] == company_input)]['Cash Flow from Operations Growth(%)'].values[0].round(4)\n",
        "        return f\"The Year By Year Average Cash Flow from Operations Growth Rate(%) from 2021 to 2023 for {company_input} is {year_avg_cash_ops_growth}(%)\"\n",
        "\n",
        "    else:\n",
        "        return \"Sorry, I cannot only provide information on the requested query.\"\n",
        "\n"
      ],
      "metadata": {
        "id": "U560XMtfhV5M"
      },
      "execution_count": 5,
      "outputs": []
    },
    {
      "cell_type": "markdown",
      "source": [
        "# Test the chatbot"
      ],
      "metadata": {
        "id": "XSCki8ushz-l"
      }
    },
    {
      "cell_type": "code",
      "source": [
        "while True:\n",
        "    print(\"----------------------------------------------------------------------------\")\n",
        "    user_input = input(\"\\nEnter Hi to start the chatbot session; type 'exit' to quit): \")\n",
        "    if user_input.lower() == \"exit\":\n",
        "        break\n",
        "    elif user_input.lower() == \"hi\":\n",
        "        print(\"\\nHello! Welcome to AI Driven Financial Chatbot!!!\")\n",
        "        print(\"\\nI can help you with your financial queries\")\n",
        "        print(\"Please select the company name from below: -\")\n",
        "        print(\"\\n1.Microsoft \\n2.Tesla \\n3.Apple\")\n",
        "        company_input = input(\"Enter company name : \").capitalize()\n",
        "        if company_input not in ['Apple', 'Microsoft', 'Tesla']:\n",
        "            print(\"Invalid Company Name. Please check and enter correct company name by starting the chatbot session again\")\n",
        "            break\n",
        "        else:\n",
        "            print(\"\\nThe data for the fiscal year 2023, 2022, and 2021 is currently available\")\n",
        "            fiscal_year = int(input(\"The fiscal year for the selected company : \"))\n",
        "            if fiscal_year not in [2023, 2022, 2021]:\n",
        "                print(\"Please enter a valid fiscal year by starting the chatbot session again\")\n",
        "                break\n",
        "    else:\n",
        "        print(\"Enter 'Hi' Properly!!!!! by starting the chatbot session again\")\n",
        "        break\n",
        "\n",
        "\n",
        "    response = financial_chatbot()\n",
        "    print(response)"
      ],
      "metadata": {
        "colab": {
          "base_uri": "https://localhost:8080/"
        },
        "id": "767PrRIchyno",
        "outputId": "fa496fcc-67a8-46f8-ad0a-78d367ba0441"
      },
      "execution_count": 7,
      "outputs": [
        {
          "name": "stdout",
          "output_type": "stream",
          "text": [
            "----------------------------------------------------------------------------\n",
            "\n",
            "Enter Hi to start the chatbot session; type 'exit' to quit): hi\n",
            "\n",
            "Hello! Welcome to AI Driven Financial Chatbot!!!\n",
            "\n",
            "I can help you with your financial queries\n",
            "Please select the company name from below: -\n",
            "\n",
            "1.Microsoft \n",
            "2.Tesla \n",
            "3.Apple\n",
            "Enter company name : Apple\n",
            "\n",
            "The data for the fiscal year 2023, 2022, and 2021 is currently available\n",
            "The fiscal year for the selected company : 2023\n",
            "\n",
            "Please enter your query\n",
            "What is the sum of total assets?\n",
            "The sum of Total Assets for Apple for fiscal year 2023 is $ 352583\n",
            "----------------------------------------------------------------------------\n",
            "\n",
            "Enter Hi to start the chatbot session; type 'exit' to quit): exit\n"
          ]
        }
      ]
    }
  ]
}